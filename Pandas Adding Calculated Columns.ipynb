{
 "cells": [
  {
   "cell_type": "markdown",
   "metadata": {},
   "source": [
    "# Pandas - Adding Calculated Columns to a DataFrame"
   ]
  },
  {
   "cell_type": "code",
   "execution_count": 27,
   "metadata": {
    "collapsed": true
   },
   "outputs": [],
   "source": [
    "import pandas as pd"
   ]
  },
  {
   "cell_type": "markdown",
   "metadata": {},
   "source": [
    "### Create DataFrame"
   ]
  },
  {
   "cell_type": "code",
   "execution_count": 28,
   "metadata": {
    "collapsed": false
   },
   "outputs": [
    {
     "data": {
      "text/html": [
       "<div>\n",
       "<style scoped>\n",
       "    .dataframe tbody tr th:only-of-type {\n",
       "        vertical-align: middle;\n",
       "    }\n",
       "\n",
       "    .dataframe tbody tr th {\n",
       "        vertical-align: top;\n",
       "    }\n",
       "\n",
       "    .dataframe thead th {\n",
       "        text-align: right;\n",
       "    }\n",
       "</style>\n",
       "<table border=\"1\" class=\"dataframe\">\n",
       "  <thead>\n",
       "    <tr style=\"text-align: right;\">\n",
       "      <th></th>\n",
       "      <th>client</th>\n",
       "      <th>product</th>\n",
       "      <th>n_boxes</th>\n",
       "      <th>n_per_box</th>\n",
       "    </tr>\n",
       "  </thead>\n",
       "  <tbody>\n",
       "    <tr>\n",
       "      <th>0</th>\n",
       "      <td>Arya</td>\n",
       "      <td>hot pies</td>\n",
       "      <td>6</td>\n",
       "      <td>2</td>\n",
       "    </tr>\n",
       "    <tr>\n",
       "      <th>1</th>\n",
       "      <td>Brienne</td>\n",
       "      <td>sapphires</td>\n",
       "      <td>2</td>\n",
       "      <td>100</td>\n",
       "    </tr>\n",
       "    <tr>\n",
       "      <th>2</th>\n",
       "      <td>Cersei</td>\n",
       "      <td>bottles of wine</td>\n",
       "      <td>8</td>\n",
       "      <td>12</td>\n",
       "    </tr>\n",
       "    <tr>\n",
       "      <th>3</th>\n",
       "      <td>Davos</td>\n",
       "      <td>onions</td>\n",
       "      <td>10</td>\n",
       "      <td>20</td>\n",
       "    </tr>\n",
       "  </tbody>\n",
       "</table>\n",
       "</div>"
      ],
      "text/plain": [
       "    client          product  n_boxes  n_per_box\n",
       "0     Arya         hot pies        6          2\n",
       "1  Brienne        sapphires        2        100\n",
       "2   Cersei  bottles of wine        8         12\n",
       "3    Davos           onions       10         20"
      ]
     },
     "execution_count": 28,
     "metadata": {},
     "output_type": "execute_result"
    }
   ],
   "source": [
    "inventory = [\n",
    "    {'client': 'Arya', 'product': 'hot pies', 'n_boxes': 6, 'n_per_box': 2},\n",
    "    {'client': 'Brienne', 'product': 'sapphires', 'n_boxes': 2, 'n_per_box': 100},\n",
    "    {'client': 'Cersei', 'product': 'bottles of wine', 'n_boxes': 8, 'n_per_box': 12},\n",
    "    {'client': 'Davos', 'product': 'onions', 'n_boxes': 10, 'n_per_box': 20},\n",
    "]\n",
    "columns = ['client', 'product', 'n_boxes', 'n_per_box']\n",
    "df = pd.DataFrame(inventory, columns=columns)\n",
    "df"
   ]
  },
  {
   "cell_type": "markdown",
   "metadata": {},
   "source": [
    "### Add calculated column based on one other column in the DataFrame\n",
    "\n",
    "If you call `.apply()` on just one column of the DataFrame, you're effectively calling it on a Series. Only one value gets passed to the function - the value in the column specified. You don't need to specify the axis, and you don't need to index the passed value."
   ]
  },
  {
   "cell_type": "code",
   "execution_count": 29,
   "metadata": {
    "collapsed": false
   },
   "outputs": [
    {
     "data": {
      "text/html": [
       "<div>\n",
       "<style scoped>\n",
       "    .dataframe tbody tr th:only-of-type {\n",
       "        vertical-align: middle;\n",
       "    }\n",
       "\n",
       "    .dataframe tbody tr th {\n",
       "        vertical-align: top;\n",
       "    }\n",
       "\n",
       "    .dataframe thead th {\n",
       "        text-align: right;\n",
       "    }\n",
       "</style>\n",
       "<table border=\"1\" class=\"dataframe\">\n",
       "  <thead>\n",
       "    <tr style=\"text-align: right;\">\n",
       "      <th></th>\n",
       "      <th>client</th>\n",
       "      <th>product</th>\n",
       "      <th>n_boxes</th>\n",
       "      <th>n_per_box</th>\n",
       "      <th>house</th>\n",
       "    </tr>\n",
       "  </thead>\n",
       "  <tbody>\n",
       "    <tr>\n",
       "      <th>0</th>\n",
       "      <td>Arya</td>\n",
       "      <td>hot pies</td>\n",
       "      <td>6</td>\n",
       "      <td>2</td>\n",
       "      <td>Stark</td>\n",
       "    </tr>\n",
       "    <tr>\n",
       "      <th>1</th>\n",
       "      <td>Brienne</td>\n",
       "      <td>sapphires</td>\n",
       "      <td>2</td>\n",
       "      <td>100</td>\n",
       "      <td>Tarth</td>\n",
       "    </tr>\n",
       "    <tr>\n",
       "      <th>2</th>\n",
       "      <td>Cersei</td>\n",
       "      <td>bottles of wine</td>\n",
       "      <td>8</td>\n",
       "      <td>12</td>\n",
       "      <td>Lannister</td>\n",
       "    </tr>\n",
       "    <tr>\n",
       "      <th>3</th>\n",
       "      <td>Davos</td>\n",
       "      <td>onions</td>\n",
       "      <td>10</td>\n",
       "      <td>20</td>\n",
       "      <td>UNSPECIFIED</td>\n",
       "    </tr>\n",
       "  </tbody>\n",
       "</table>\n",
       "</div>"
      ],
      "text/plain": [
       "    client          product  n_boxes  n_per_box        house\n",
       "0     Arya         hot pies        6          2        Stark\n",
       "1  Brienne        sapphires        2        100        Tarth\n",
       "2   Cersei  bottles of wine        8         12    Lannister\n",
       "3    Davos           onions       10         20  UNSPECIFIED"
      ]
     },
     "execution_count": 29,
     "metadata": {},
     "output_type": "execute_result"
    }
   ],
   "source": [
    "def designate_house(x):\n",
    "    houses = {\n",
    "        'Eddard': 'Stark',\n",
    "        'Cersei': 'Lannister',\n",
    "        'Arya': 'Stark',\n",
    "        'Roose': 'Bolton',\n",
    "        # 'Davos': 'Seaworth',\n",
    "        'Brienne': 'Tarth',\n",
    "        'Jamie': 'Lannister',\n",
    "    }\n",
    "    return houses.get(x, 'UNSPECIFIED') # value returned if not found in the houses dict\n",
    "\n",
    "df['house'] = df['client'].apply(lambda x: designate_house(x))\n",
    "df"
   ]
  },
  {
   "cell_type": "markdown",
   "metadata": {},
   "source": [
    "### Add calculated column based on multiple other columns in the DataFrame\n",
    "\n",
    "When using `.apply()`, you can specify the `axis` that is being passed to the specified function. If you use `.apply()` on the whole DataFrame and specify `axis=1`, then you are passing Serieses corresponding to each row of the DataFrame to the function. The values from the columns you're interested in can be specified by indexing the Series with the column names of interest. "
   ]
  },
  {
   "cell_type": "code",
   "execution_count": 30,
   "metadata": {
    "collapsed": false
   },
   "outputs": [
    {
     "data": {
      "text/html": [
       "<div>\n",
       "<style scoped>\n",
       "    .dataframe tbody tr th:only-of-type {\n",
       "        vertical-align: middle;\n",
       "    }\n",
       "\n",
       "    .dataframe tbody tr th {\n",
       "        vertical-align: top;\n",
       "    }\n",
       "\n",
       "    .dataframe thead th {\n",
       "        text-align: right;\n",
       "    }\n",
       "</style>\n",
       "<table border=\"1\" class=\"dataframe\">\n",
       "  <thead>\n",
       "    <tr style=\"text-align: right;\">\n",
       "      <th></th>\n",
       "      <th>client</th>\n",
       "      <th>product</th>\n",
       "      <th>n_boxes</th>\n",
       "      <th>n_per_box</th>\n",
       "      <th>house</th>\n",
       "      <th>n_total</th>\n",
       "    </tr>\n",
       "  </thead>\n",
       "  <tbody>\n",
       "    <tr>\n",
       "      <th>0</th>\n",
       "      <td>Arya</td>\n",
       "      <td>hot pies</td>\n",
       "      <td>6</td>\n",
       "      <td>2</td>\n",
       "      <td>Stark</td>\n",
       "      <td>12</td>\n",
       "    </tr>\n",
       "    <tr>\n",
       "      <th>1</th>\n",
       "      <td>Brienne</td>\n",
       "      <td>sapphires</td>\n",
       "      <td>2</td>\n",
       "      <td>100</td>\n",
       "      <td>Tarth</td>\n",
       "      <td>200</td>\n",
       "    </tr>\n",
       "    <tr>\n",
       "      <th>2</th>\n",
       "      <td>Cersei</td>\n",
       "      <td>bottles of wine</td>\n",
       "      <td>8</td>\n",
       "      <td>12</td>\n",
       "      <td>Lannister</td>\n",
       "      <td>96</td>\n",
       "    </tr>\n",
       "    <tr>\n",
       "      <th>3</th>\n",
       "      <td>Davos</td>\n",
       "      <td>onions</td>\n",
       "      <td>10</td>\n",
       "      <td>20</td>\n",
       "      <td>UNSPECIFIED</td>\n",
       "      <td>200</td>\n",
       "    </tr>\n",
       "  </tbody>\n",
       "</table>\n",
       "</div>"
      ],
      "text/plain": [
       "    client          product  n_boxes  n_per_box        house  n_total\n",
       "0     Arya         hot pies        6          2        Stark       12\n",
       "1  Brienne        sapphires        2        100        Tarth      200\n",
       "2   Cersei  bottles of wine        8         12    Lannister       96\n",
       "3    Davos           onions       10         20  UNSPECIFIED      200"
      ]
     },
     "execution_count": 30,
     "metadata": {},
     "output_type": "execute_result"
    }
   ],
   "source": [
    "def total_inventory(x):\n",
    "    return x['n_boxes']*x['n_per_box']\n",
    "\n",
    "df['n_total'] = df.apply(lambda x: total_inventory(x), axis=1)\n",
    "df"
   ]
  },
  {
   "cell_type": "code",
   "execution_count": null,
   "metadata": {
    "collapsed": true
   },
   "outputs": [],
   "source": []
  }
 ],
 "metadata": {
  "anaconda-cloud": {},
  "kernelspec": {
   "display_name": "Python [default]",
   "language": "python",
   "name": "python3"
  },
  "language_info": {
   "codemirror_mode": {
    "name": "ipython",
    "version": 3
   },
   "file_extension": ".py",
   "mimetype": "text/x-python",
   "name": "python",
   "nbconvert_exporter": "python",
   "pygments_lexer": "ipython3",
   "version": "3.5.2"
  }
 },
 "nbformat": 4,
 "nbformat_minor": 2
}
